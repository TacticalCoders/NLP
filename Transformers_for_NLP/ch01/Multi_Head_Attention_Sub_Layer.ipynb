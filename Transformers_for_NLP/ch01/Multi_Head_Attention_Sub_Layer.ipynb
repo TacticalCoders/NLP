{
  "nbformat": 4,
  "nbformat_minor": 0,
  "metadata": {
    "colab": {
      "name": "Transformers-for-NLP/ch01/Multi_Head_Attention_Sub_Layer.ipynb",
      "provenance": [],
      "authorship_tag": "ABX9TyN0zySrAcSaaIk5Q/NfIBEb",
      "include_colab_link": true
    },
    "kernelspec": {
      "name": "python3",
      "display_name": "Python 3"
    },
    "language_info": {
      "name": "python"
    }
  },
  "cells": [
    {
      "cell_type": "markdown",
      "metadata": {
        "id": "view-in-github",
        "colab_type": "text"
      },
      "source": [
        "<a href=\"https://colab.research.google.com/github/TacticalCoders/NLP/blob/main/Transformers_for_NLP/ch01/Multi_Head_Attention_Sub_Layer.ipynb\" target=\"_parent\"><img src=\"https://colab.research.google.com/assets/colab-badge.svg\" alt=\"Open In Colab\"/></a>"
      ]
    },
    {
      "cell_type": "code",
      "execution_count": 2,
      "metadata": {
        "id": "nStcABTVy_mG"
      },
      "outputs": [],
      "source": [
        "import numpy as np\n",
        "from scipy.special import softmax"
      ]
    },
    {
      "cell_type": "code",
      "source": [
        "print(\"1단계 : 4차원(512->4)의 3개의 입력(Input : 3 inputs, d_model=4)\")\n",
        "x = np.array([[1.0, 0.0, 1.0, 0.0],\n",
        "              [0.0, 2.0, 0.0, 2.0],\n",
        "              [1.0, 1.0, 1.0, 1.0]])\n",
        "print(x)"
      ],
      "metadata": {
        "colab": {
          "base_uri": "https://localhost:8080/"
        },
        "id": "AYaCB7BNzb4k",
        "outputId": "7031f921-7737-43c3-f8e1-62d23ec720b7"
      },
      "execution_count": 3,
      "outputs": [
        {
          "output_type": "stream",
          "name": "stdout",
          "text": [
            "1단계 : Input : 3 inputs, d_model=4\n",
            "[[1. 0. 1. 0.]\n",
            " [0. 2. 0. 2.]\n",
            " [1. 1. 1. 1.]]\n"
          ]
        }
      ]
    },
    {
      "cell_type": "code",
      "source": [
        "print(\"2단계: 4행 3(64->3)열의 가중치 행렬(d_model=4)\")\n",
        "print(\"w_query\")\n",
        "w_query = np.array([[1, 0, 1],\n",
        "                    [1, 0, 0],\n",
        "                    [0, 0, 1],\n",
        "                    [0, 1, 1]])\n",
        "print(w_query)"
      ],
      "metadata": {
        "colab": {
          "base_uri": "https://localhost:8080/"
        },
        "id": "JemRlSAX0E37",
        "outputId": "a8e5211b-2e6a-45b0-e6ae-ff3bf6e28960"
      },
      "execution_count": 5,
      "outputs": [
        {
          "output_type": "stream",
          "name": "stdout",
          "text": [
            "2단계: 4행 3열의 가중치 행렬(d_model=4)\n",
            "w_query\n",
            "[[1 0 1]\n",
            " [1 0 0]\n",
            " [0 0 1]\n",
            " [0 1 1]]\n"
          ]
        }
      ]
    },
    {
      "cell_type": "code",
      "source": [
        "print(\"w_key\")\n",
        "w_key =np.array([[0, 0, 1],\n",
        "                 [1, 1, 0],\n",
        "                 [0, 1, 0],\n",
        "                 [1, 1, 0]])\n",
        "print(w_key)"
      ],
      "metadata": {
        "colab": {
          "base_uri": "https://localhost:8080/"
        },
        "id": "rrsr3D1r2eGb",
        "outputId": "3e5d7ca4-7e88-4445-e85e-30eba0aa8e29"
      },
      "execution_count": 6,
      "outputs": [
        {
          "output_type": "stream",
          "name": "stdout",
          "text": [
            "w_key\n",
            "[[0 0 1]\n",
            " [1 1 0]\n",
            " [0 1 0]\n",
            " [1 1 0]]\n"
          ]
        }
      ]
    },
    {
      "cell_type": "code",
      "source": [
        "print(\"w_value\")\n",
        "w_value = np.array([[0, 2, 0],\n",
        "                    [0, 3, 0],\n",
        "                    [1, 0, 3],\n",
        "                    [1, 1, 0]])\n",
        "print(w_value)"
      ],
      "metadata": {
        "colab": {
          "base_uri": "https://localhost:8080/"
        },
        "id": "wo-1xcmW2neS",
        "outputId": "97e4ba34-fb53-4ed0-e3bd-ce8f5b9d520b"
      },
      "execution_count": 7,
      "outputs": [
        {
          "output_type": "stream",
          "name": "stdout",
          "text": [
            "w_value\n",
            "[[0 2 0]\n",
            " [0 3 0]\n",
            " [1 0 3]\n",
            " [1 1 0]]\n"
          ]
        }
      ]
    },
    {
      "cell_type": "markdown",
      "source": [
        "참고로 이 가중치 행렬들은 훈련으로 얻어진다. \n",
        "\n",
        "그리고 오리지널 트랜스포머에서 사용하는 가중치 행렬은 모두  512행, 64열이다."
      ],
      "metadata": {
        "id": "I2pWBYIw2n-i"
      }
    },
    {
      "cell_type": "code",
      "source": [
        "print(\"3단계: Q, K, V 벡터를 얻기 위한 행렬곱\")\n",
        "\n",
        "print(\"Queries: x * w_query\")\n",
        "Q=np.matmul(x,w_query)\n",
        "print(Q)"
      ],
      "metadata": {
        "colab": {
          "base_uri": "https://localhost:8080/"
        },
        "id": "A3Y5gLMP3Ho6",
        "outputId": "6080b7c3-a15b-4cfe-e024-3b19156bc8e6"
      },
      "execution_count": 8,
      "outputs": [
        {
          "output_type": "stream",
          "name": "stdout",
          "text": [
            "3단계: Q, K, V 벡터를 얻기 위한 행렬곱\n",
            "Queries: x * w_query\n",
            "[[1. 0. 2.]\n",
            " [2. 2. 2.]\n",
            " [2. 1. 3.]]\n"
          ]
        }
      ]
    },
    {
      "cell_type": "code",
      "source": [
        "print(\"Keys: x * w_key\")\n",
        "K=np.matmul(x,w_key)\n",
        "print(K)"
      ],
      "metadata": {
        "colab": {
          "base_uri": "https://localhost:8080/"
        },
        "id": "BB_wblKE5sc7",
        "outputId": "6556a7e7-f8dc-4737-f054-77da96122105"
      },
      "execution_count": 9,
      "outputs": [
        {
          "output_type": "stream",
          "name": "stdout",
          "text": [
            "Keys: x * w_key\n",
            "[[0. 1. 1.]\n",
            " [4. 4. 0.]\n",
            " [2. 3. 1.]]\n"
          ]
        }
      ]
    },
    {
      "cell_type": "code",
      "source": [
        "print(\"Values: x * w_value\")\n",
        "V=np.matmul(x,w_value)\n",
        "print(V)"
      ],
      "metadata": {
        "colab": {
          "base_uri": "https://localhost:8080/"
        },
        "id": "NLK2Zslp54P5",
        "outputId": "b1dfd645-c674-4b8f-df66-8c2c23343770"
      },
      "execution_count": 10,
      "outputs": [
        {
          "output_type": "stream",
          "name": "stdout",
          "text": [
            "Values: x * w_value\n",
            "[[1. 2. 3.]\n",
            " [2. 8. 0.]\n",
            " [2. 6. 3.]]\n"
          ]
        }
      ]
    },
    {
      "cell_type": "code",
      "source": [
        "print(\"4단계: 스케일된 내적 어텐션(스코어)\")\n",
        "k_d=1 #루트 dk, 즉 루트 3(1.73)을 1로 \n",
        "attention_scores = (Q @ K.transpose())/k_d\n",
        "print(attention_scores)"
      ],
      "metadata": {
        "colab": {
          "base_uri": "https://localhost:8080/"
        },
        "id": "c3Yxsdh76WaR",
        "outputId": "768d8b94-aef0-4c26-cdc3-983d8c072610"
      },
      "execution_count": 11,
      "outputs": [
        {
          "output_type": "stream",
          "name": "stdout",
          "text": [
            "4단계: 스케일된 내적 어텐션(스코어)\n",
            "[[ 2.  4.  4.]\n",
            " [ 4. 16. 12.]\n",
            " [ 4. 12. 10.]]\n"
          ]
        }
      ]
    },
    {
      "cell_type": "markdown",
      "source": [
        "첫 번째 단어 x1에 대한 각 입력에 대한 어텐션 스코어는 2, 4, 4이다.\n",
        "\n"
      ],
      "metadata": {
        "id": "7w25S1bI6zh5"
      }
    },
    {
      "cell_type": "code",
      "source": [
        "print(\"5단계: 각 벡터에 대한 스케일된 softmax 어텐션 점수\")\n",
        "attention_scores[0] = softmax(attention_scores[0])\n",
        "attention_scores[1] = softmax(attention_scores[1])\n",
        "attention_scores[2] = softmax(attention_scores[2])\n",
        "print(attention_scores[0])\n",
        "print(attention_scores[1])\n",
        "print(attention_scores[2])"
      ],
      "metadata": {
        "colab": {
          "base_uri": "https://localhost:8080/"
        },
        "id": "F4DjYttl-FXa",
        "outputId": "fd3370ff-9fd4-462a-a92c-4e20d4ba4d66"
      },
      "execution_count": 12,
      "outputs": [
        {
          "output_type": "stream",
          "name": "stdout",
          "text": [
            "5단계: 각 벡터에 대한 스케일된 softmax 어텐션 점수\n",
            "[0.06337894 0.46831053 0.46831053]\n",
            "[6.03366485e-06 9.82007865e-01 1.79861014e-02]\n",
            "[2.95387223e-04 8.80536902e-01 1.19167711e-01]\n"
          ]
        }
      ]
    },
    {
      "cell_type": "code",
      "source": [
        "print(\"6단계: 최종 어텐션 표현(소프트맥스를 통해 얻은 어텐션 가중치와 V곱하기)\")\n",
        "print(V[0])\n",
        "print(V[1])\n",
        "print(V[2])\n",
        "print(\"Attention 1\")\n",
        "attention1=attention_scores[0].reshape(-1,1)\n",
        "attention1=attention_scores[0][0]*V[0]\n",
        "print(attention1)\n",
        "\n",
        "print(\"Attention 2\")\n",
        "attention2=attention_scores[0][1]*V[1]\n",
        "print(attention2)\n",
        "\n",
        "print(\"Attention 3\")\n",
        "attention3=attention_scores[0][2]*V[2]\n",
        "print(attention3)"
      ],
      "metadata": {
        "colab": {
          "base_uri": "https://localhost:8080/"
        },
        "id": "63V1e7Eb-stS",
        "outputId": "9152e5da-ba88-4a63-956a-c471f6b4e801"
      },
      "execution_count": 13,
      "outputs": [
        {
          "output_type": "stream",
          "name": "stdout",
          "text": [
            "6단계: 최종 어텐션 표현(소프트맥스를 통해 얻은 어텐션 가중치와 V곱하기)\n",
            "[1. 2. 3.]\n",
            "[2. 8. 0.]\n",
            "[2. 6. 3.]\n",
            "Attention 1\n",
            "[0.06337894 0.12675788 0.19013681]\n",
            "Attention 2\n",
            "[0.93662106 3.74648425 0.        ]\n",
            "Attention 3\n",
            "[0.93662106 2.80986319 1.40493159]\n"
          ]
        }
      ]
    },
    {
      "cell_type": "markdown",
      "source": [
        "각 Attention1,2,3은 첫 번째 단어 x1에 대한 3개의 어텐션 값(3개의 key에 대한)을 의미한다."
      ],
      "metadata": {
        "id": "GUNF0zs_Ag4S"
      }
    },
    {
      "cell_type": "code",
      "source": [
        "print(\"7단계: 어텐션 결과 합산\")\n",
        "attention_input1=attention1+attention2+attention3\n",
        "print(attention_input1)"
      ],
      "metadata": {
        "colab": {
          "base_uri": "https://localhost:8080/"
        },
        "id": "l2DerfZPBZvR",
        "outputId": "eb7ce569-8d6c-4029-d5d7-d4cdd8ce72f4"
      },
      "execution_count": 14,
      "outputs": [
        {
          "output_type": "stream",
          "name": "stdout",
          "text": [
            "7단계: 어텐션 결과 합산\n",
            "[1.93662106 6.68310531 1.59506841]\n"
          ]
        }
      ]
    },
    {
      "cell_type": "markdown",
      "source": [
        "이 벡터가 어텐션 출력 행렬의 첫 번째 행이 될 것이다."
      ],
      "metadata": {
        "id": "ZGEkystyBuWZ"
      }
    },
    {
      "cell_type": "code",
      "source": [
        "print(\"8단계: 나머지 입력들에 대해 단계 1~7수행\")\n",
        "# d_model=64로 학습된 가중치에 의한 3개의 어텐션 값이 있다고 가정한다.\n",
        "# 오리지널 차원들이 서브레이어의 출력애 도달했을 때의 모양을 확인하고자 한다.\n",
        "\n",
        "attention_head1=np.random.random((3, 64))\n",
        "print(attention_head1)"
      ],
      "metadata": {
        "colab": {
          "base_uri": "https://localhost:8080/"
        },
        "id": "R9SyHrO_CNPJ",
        "outputId": "b8be9298-3399-4e48-f458-aac0a795e5b9"
      },
      "execution_count": 15,
      "outputs": [
        {
          "output_type": "stream",
          "name": "stdout",
          "text": [
            "8단계: 나머지 입력들에 대해 단계 1~7수행\n",
            "[[0.63208227 0.88215193 0.46111181 0.22761256 0.27002387 0.12910001\n",
            "  0.52562444 0.87578265 0.0150151  0.87130635 0.85992993 0.20953625\n",
            "  0.45722595 0.9990534  0.97924333 0.72237541 0.13746608 0.14045825\n",
            "  0.47802267 0.44887708 0.87250681 0.17429645 0.63953612 0.36261146\n",
            "  0.95102285 0.5803502  0.38272882 0.12280673 0.06709225 0.08832493\n",
            "  0.77419665 0.90520022 0.01862232 0.16388754 0.19748884 0.73842788\n",
            "  0.17325862 0.90400657 0.43980883 0.12596864 0.7364913  0.90660408\n",
            "  0.55270865 0.48566135 0.43114592 0.08358064 0.403377   0.69637234\n",
            "  0.42704368 0.23811052 0.87309943 0.78767508 0.22635059 0.72231367\n",
            "  0.40684142 0.75949704 0.80211791 0.15881727 0.15468519 0.51845551\n",
            "  0.73208059 0.85086951 0.28730033 0.81989916]\n",
            " [0.05223882 0.08944417 0.74096282 0.47165554 0.08865405 0.7996842\n",
            "  0.54437672 0.38972261 0.72489333 0.6033972  0.30139281 0.92369921\n",
            "  0.27788959 0.33992954 0.81745664 0.648442   0.69401929 0.7042959\n",
            "  0.89075788 0.75137118 0.0729366  0.2017328  0.01884114 0.16955563\n",
            "  0.50625114 0.44507627 0.69207066 0.99230292 0.02278804 0.59449634\n",
            "  0.99350374 0.77526254 0.51325454 0.63272464 0.71428972 0.96190461\n",
            "  0.47589567 0.36684687 0.75143172 0.43016732 0.86250577 0.55245675\n",
            "  0.0436168  0.35593681 0.8715308  0.20252383 0.26998652 0.98520917\n",
            "  0.89044292 0.89448134 0.53762709 0.95741249 0.54682084 0.30596568\n",
            "  0.82678555 0.39031411 0.03334559 0.51979817 0.07224686 0.36652763\n",
            "  0.45188836 0.64798768 0.303231   0.65342961]\n",
            " [0.25994252 0.5142488  0.41694541 0.66505924 0.69939182 0.28116861\n",
            "  0.50820242 0.95302889 0.39363027 0.54363755 0.88208923 0.64513638\n",
            "  0.48942611 0.21518503 0.90287326 0.66441597 0.03553116 0.15534809\n",
            "  0.34620122 0.30980613 0.43611049 0.74845969 0.83368595 0.42771732\n",
            "  0.23944183 0.57251477 0.52312065 0.75122804 0.56234742 0.9593256\n",
            "  0.68929264 0.27369361 0.40176113 0.57437581 0.89982505 0.568438\n",
            "  0.63198718 0.82288169 0.47417956 0.0081392  0.23649795 0.25619116\n",
            "  0.52606635 0.16324469 0.79070128 0.14686592 0.45404296 0.31668273\n",
            "  0.31434845 0.07541166 0.74788118 0.13969204 0.69813477 0.32821207\n",
            "  0.48003013 0.47451039 0.08396231 0.56532602 0.52584298 0.90596856\n",
            "  0.55824812 0.86319311 0.72897889 0.40445194]]\n"
          ]
        }
      ]
    },
    {
      "cell_type": "markdown",
      "source": [
        "즉, 3개의 단어에 대한 최종 어텐션 값을 산출한 것이다. 첫 번째 벡터는 첫 번째 key 단어와의 어텐션 값인 것이다."
      ],
      "metadata": {
        "id": "IPmLCJi_C1qi"
      }
    },
    {
      "cell_type": "code",
      "source": [
        "print(\"9단계: 8개 헤드들의 출력\")\n",
        "z0h1=np.random.random((3, 64))\n",
        "z1h2=np.random.random((3, 64))\n",
        "z2h3=np.random.random((3, 64))\n",
        "z3h4=np.random.random((3, 64))\n",
        "z4h5=np.random.random((3, 64))\n",
        "z5h6=np.random.random((3, 64))\n",
        "z6h7=np.random.random((3, 64))\n",
        "z7h8=np.random.random((3, 64))\n",
        "print(\"shape of one head\",z0h1.shape,\"dimension of 8 heads\",64*8)"
      ],
      "metadata": {
        "colab": {
          "base_uri": "https://localhost:8080/"
        },
        "id": "RYXV3j6kDPSo",
        "outputId": "3eff4afa-ba8e-4336-871d-4fc4fece2ba0"
      },
      "execution_count": 16,
      "outputs": [
        {
          "output_type": "stream",
          "name": "stdout",
          "text": [
            "9단계: 8개 헤드들의 출력\n",
            "shape of one head (3, 64) dimension of 8 heads 512\n"
          ]
        }
      ]
    },
    {
      "cell_type": "code",
      "source": [
        "print(\"10단계: 8개의 헤드 연결하기\")\n",
        "output_attention=np.hstack((z0h1,z1h2,z2h3,z3h4,z4h5,z5h6,z6h7,z7h8))\n",
        "print(output_attention)"
      ],
      "metadata": {
        "colab": {
          "base_uri": "https://localhost:8080/"
        },
        "id": "XoPLP74tD38A",
        "outputId": "513df5ec-2167-4a2c-bb70-26e27afb5dc1"
      },
      "execution_count": 17,
      "outputs": [
        {
          "output_type": "stream",
          "name": "stdout",
          "text": [
            "10단계: 8개의 헤드 연결하기\n",
            "[[0.16985392 0.84172047 0.16652259 ... 0.13520991 0.8416682  0.23594613]\n",
            " [0.31855329 0.55018356 0.25944598 ... 0.34304078 0.50181853 0.06545083]\n",
            " [0.23471275 0.38045653 0.86151236 ... 0.10429432 0.11677889 0.96405482]]\n"
          ]
        }
      ]
    },
    {
      "cell_type": "markdown",
      "source": [
        "최종 어텐션 출력은 입력과 똑같은 크기 x*512의 행렬이다.\n",
        "\n",
        "그리고 이 최종 표현은 훈련된 가중치 행렬로 곱해진다. "
      ],
      "metadata": {
        "id": "CssH5MXLEXGo"
      }
    }
  ]
}