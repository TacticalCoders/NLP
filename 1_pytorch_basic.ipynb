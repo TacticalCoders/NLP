{
  "nbformat": 4,
  "nbformat_minor": 0,
  "metadata": {
    "colab": {
      "name": "1_pytorch_basic.ipynb",
      "provenance": [],
      "collapsed_sections": [],
      "toc_visible": true
    },
    "kernelspec": {
      "name": "python3",
      "display_name": "Python 3"
    },
    "language_info": {
      "name": "python"
    }
  },
  "cells": [
    {
      "cell_type": "markdown",
      "source": [
        "# 파이토치 기초"
      ],
      "metadata": {
        "id": "CxacghSmHlXI"
      }
    },
    {
      "cell_type": "markdown",
      "source": [
        "## 텐서 만들기\n",
        "\n",
        "우선 헬퍼 함수 describe(x) 정의"
      ],
      "metadata": {
        "id": "eYxdNyvIHoRb"
      }
    },
    {
      "cell_type": "code",
      "source": [
        "def describe(x): # 텐서의 속성 출력\n",
        "  print(\"타입: {}\".format(x.type())) # 타입\n",
        "  print(\"크기: {}\".format(x.shape)) # 차원\n",
        "  print(\"값: \\n{}\".format(x)) # 값"
      ],
      "metadata": {
        "id": "tdDuZYG3H2qs"
      },
      "execution_count": null,
      "outputs": []
    },
    {
      "cell_type": "markdown",
      "source": [
        "### 차원을 지정하여 텐서를 랜덤하게 초기화 하기"
      ],
      "metadata": {
        "id": "Ri4FzhuPIaMt"
      }
    },
    {
      "cell_type": "code",
      "source": [
        "import torch\n",
        "describe(torch.Tensor(2,3))"
      ],
      "metadata": {
        "colab": {
          "base_uri": "https://localhost:8080/"
        },
        "id": "i08ZMU2PIhAU",
        "outputId": "9f0a19bc-956d-419e-bb02-cc4a7397acb8"
      },
      "execution_count": null,
      "outputs": [
        {
          "output_type": "stream",
          "name": "stdout",
          "text": [
            "타입: torch.FloatTensor\n",
            "크기: torch.Size([2, 3])\n",
            "값: \n",
            "tensor([[9.0935e-36, 0.0000e+00, 1.5695e-43],\n",
            "        [1.5554e-43, 1.5975e-43, 1.6255e-43]])\n"
          ]
        }
      ]
    },
    {
      "cell_type": "markdown",
      "source": [
        "### [0,1) 범위의 균등 분포에서 샘플링한 값으로 초기화한 텐서 만들기(표준 정규분포에서 텐서 만들기)"
      ],
      "metadata": {
        "id": "0_ObhL7xIqUr"
      }
    },
    {
      "cell_type": "code",
      "source": [
        "import torch\n",
        "describe(torch.rand(2,3)) # 균등 분포\n",
        "describe(torch.randn(2,3)) # 표준 정규 분포"
      ],
      "metadata": {
        "colab": {
          "base_uri": "https://localhost:8080/"
        },
        "id": "A6KNLXMjJJik",
        "outputId": "bd173d1e-9d8c-4254-b73d-2dd9572b741e"
      },
      "execution_count": null,
      "outputs": [
        {
          "output_type": "stream",
          "name": "stdout",
          "text": [
            "타입: torch.FloatTensor\n",
            "크기: torch.Size([2, 3])\n",
            "값: \n",
            "tensor([[0.3079, 0.6037, 0.8427],\n",
            "        [0.8513, 0.7552, 0.7670]])\n",
            "타입: torch.FloatTensor\n",
            "크기: torch.Size([2, 3])\n",
            "값: \n",
            "tensor([[ 0.0386,  1.3926,  1.1654],\n",
            "        [-2.3406, -0.1496, -0.1444]])\n"
          ]
        }
      ]
    },
    {
      "cell_type": "markdown",
      "source": [
        "### 동일한 스칼라값을 채운 텐서 만들기"
      ],
      "metadata": {
        "id": "35jnJjPuJnox"
      }
    },
    {
      "cell_type": "code",
      "source": [
        "import torch\n",
        "describe(torch.zeros(2,3))\n",
        "x = torch.ones(2,3)\n",
        "describe(x)\n",
        "x.fill_(5) # 특정값으로 채울 수 있다. 이렇게 밑줄 문자가 있는 '파이 토치 인-플레이스' 메서드는 텐서값을 바꾸는 연산을 뜻한다. 즉, 새로운 객체를 만들지 않고 현재값을 변경한다.\n",
        "describe(x)"
      ],
      "metadata": {
        "colab": {
          "base_uri": "https://localhost:8080/"
        },
        "id": "eE_0_ajzJ_Qq",
        "outputId": "11bdc203-58c5-466a-ae45-967ab09c3f85"
      },
      "execution_count": null,
      "outputs": [
        {
          "output_type": "stream",
          "name": "stdout",
          "text": [
            "타입: torch.FloatTensor\n",
            "크기: torch.Size([2, 3])\n",
            "값: \n",
            "tensor([[0., 0., 0.],\n",
            "        [0., 0., 0.]])\n",
            "타입: torch.FloatTensor\n",
            "크기: torch.Size([2, 3])\n",
            "값: \n",
            "tensor([[1., 1., 1.],\n",
            "        [1., 1., 1.]])\n",
            "타입: torch.FloatTensor\n",
            "크기: torch.Size([2, 3])\n",
            "값: \n",
            "tensor([[5., 5., 5.],\n",
            "        [5., 5., 5.]])\n"
          ]
        }
      ]
    },
    {
      "cell_type": "markdown",
      "source": [
        "### 파이썬 리스트로 텐서 만들기"
      ],
      "metadata": {
        "id": "7ZPkeqVSKy9L"
      }
    },
    {
      "cell_type": "code",
      "source": [
        "x = torch.Tensor([[1, 2, 3], \n",
        "                  [4, 5, 6]])\n",
        "describe(x)"
      ],
      "metadata": {
        "colab": {
          "base_uri": "https://localhost:8080/"
        },
        "id": "FYinbtAcLWkr",
        "outputId": "81e19c96-3cb3-4b65-ba6e-7cc6248bbb78"
      },
      "execution_count": null,
      "outputs": [
        {
          "output_type": "stream",
          "name": "stdout",
          "text": [
            "타입: torch.FloatTensor\n",
            "크기: torch.Size([2, 3])\n",
            "값: \n",
            "tensor([[1., 2., 3.],\n",
            "        [4., 5., 6.]])\n"
          ]
        }
      ]
    },
    {
      "cell_type": "markdown",
      "source": [
        "### 넘파이로 텐서 만들기"
      ],
      "metadata": {
        "id": "BoVWpVNCLlq3"
      }
    },
    {
      "cell_type": "code",
      "source": [
        "import torch\n",
        "import numpy as np\n",
        "npy = np.random.rand(2, 3)\n",
        "describe(torch.from_numpy(npy))"
      ],
      "metadata": {
        "colab": {
          "base_uri": "https://localhost:8080/"
        },
        "id": "CEUbaiL8L0TL",
        "outputId": "ed6709c0-5d0d-4082-855a-f44157059a84"
      },
      "execution_count": null,
      "outputs": [
        {
          "output_type": "stream",
          "name": "stdout",
          "text": [
            "타입: torch.DoubleTensor\n",
            "크기: torch.Size([2, 3])\n",
            "값: \n",
            "tensor([[0.6948, 0.0336, 0.0511],\n",
            "        [0.6823, 0.4670, 0.6976]], dtype=torch.float64)\n"
          ]
        }
      ]
    },
    {
      "cell_type": "markdown",
      "source": [
        "타입이 기존 FloatTensor에서 DoubleTensor로 바뀌었다. (넘파이 배열의 기본 데이터 타입이 float64 이기 때문)"
      ],
      "metadata": {
        "id": "COydpzofMHH6"
      }
    },
    {
      "cell_type": "markdown",
      "source": [
        "## 텐서 타입과 크기\n",
        "\n",
        "텐서에는 타입과 크기가 있다. torch.Tensor 생성자를 사용한다면 기본 타입은 torch.FloatTensor이다. 텐서 타입은 초기화할 때 지정하거나 나중에 타입 캐스팅(casting) 메서드로 바꿀 수 있다. \n",
        "\n",
        "초기화 할 때 타입을 지정하려면 FloatTensor와 LongTensor 같은 특정 텐서 타입의 생성자를 직접 호출하거나 torch.tensor()메서드의 dtype 매개변수를 활용할 수 있다."
      ],
      "metadata": {
        "id": "e5RFORQUMoDf"
      }
    },
    {
      "cell_type": "code",
      "source": [
        "x = torch.FloatTensor([[1,2,3],\n",
        "                       [4,5,6]])\n",
        "describe(x)"
      ],
      "metadata": {
        "colab": {
          "base_uri": "https://localhost:8080/"
        },
        "id": "pgbh6h0tMyig",
        "outputId": "cf9cf710-b22d-437a-8b48-40d3956a1306"
      },
      "execution_count": null,
      "outputs": [
        {
          "output_type": "stream",
          "name": "stdout",
          "text": [
            "타입: torch.FloatTensor\n",
            "크기: torch.Size([2, 3])\n",
            "값: \n",
            "tensor([[1., 2., 3.],\n",
            "        [4., 5., 6.]])\n"
          ]
        }
      ]
    },
    {
      "cell_type": "code",
      "source": [
        "x = x.long()\n",
        "describe(x)"
      ],
      "metadata": {
        "colab": {
          "base_uri": "https://localhost:8080/"
        },
        "id": "VdqpPjz8N8_K",
        "outputId": "42637b5c-aaab-4182-80e8-9785f802b53b"
      },
      "execution_count": null,
      "outputs": [
        {
          "output_type": "stream",
          "name": "stdout",
          "text": [
            "타입: torch.LongTensor\n",
            "크기: torch.Size([2, 3])\n",
            "값: \n",
            "tensor([[1, 2, 3],\n",
            "        [4, 5, 6]])\n"
          ]
        }
      ]
    },
    {
      "cell_type": "code",
      "source": [
        "x = torch.tensor([[1,2,3],\n",
        "                  [4,5,6]], dtype=torch.int64)\n",
        "describe(x)"
      ],
      "metadata": {
        "colab": {
          "base_uri": "https://localhost:8080/"
        },
        "id": "5jgnn5PyOGNI",
        "outputId": "0a314503-7786-4db0-ebbe-82796d68e4d0"
      },
      "execution_count": null,
      "outputs": [
        {
          "output_type": "stream",
          "name": "stdout",
          "text": [
            "타입: torch.LongTensor\n",
            "크기: torch.Size([2, 3])\n",
            "값: \n",
            "tensor([[1, 2, 3],\n",
            "        [4, 5, 6]])\n"
          ]
        }
      ]
    },
    {
      "cell_type": "code",
      "source": [
        "x = x.float()\n",
        "describe(x)"
      ],
      "metadata": {
        "colab": {
          "base_uri": "https://localhost:8080/"
        },
        "id": "l5g0x2RjOauA",
        "outputId": "657174f2-e639-4c5c-ff61-726e83e5207d"
      },
      "execution_count": null,
      "outputs": [
        {
          "output_type": "stream",
          "name": "stdout",
          "text": [
            "타입: torch.FloatTensor\n",
            "크기: torch.Size([2, 3])\n",
            "값: \n",
            "tensor([[1., 2., 3.],\n",
            "        [4., 5., 6.]])\n"
          ]
        }
      ]
    },
    {
      "cell_type": "markdown",
      "source": [
        "## 텐서 연산\n",
        "\n",
        "텐서를 만들고 일반적인 프로그래밍 언어처럼 +, -, *, /를 사용해 연산을 수행할 수 있다.\n",
        "\n",
        "연산자에 대응하는 .add() 같은 함수를 사용해도 된다."
      ],
      "metadata": {
        "id": "ynFT5pHAOfGY"
      }
    },
    {
      "cell_type": "markdown",
      "source": [
        "### 텐서 덧셈"
      ],
      "metadata": {
        "id": "7tVC2wMKO43A"
      }
    },
    {
      "cell_type": "code",
      "source": [
        "import torch\n",
        "x = torch.randn(2,3)\n",
        "describe(x)"
      ],
      "metadata": {
        "colab": {
          "base_uri": "https://localhost:8080/"
        },
        "id": "QDvpffSYPB64",
        "outputId": "be162cc7-ca22-4e5a-f46a-51afd0c86c7b"
      },
      "execution_count": null,
      "outputs": [
        {
          "output_type": "stream",
          "name": "stdout",
          "text": [
            "타입: torch.FloatTensor\n",
            "크기: torch.Size([2, 3])\n",
            "값: \n",
            "tensor([[0.7010, 0.0123, 0.2258],\n",
            "        [1.8704, 0.7130, 0.0362]])\n"
          ]
        }
      ]
    },
    {
      "cell_type": "code",
      "source": [
        "describe(torch.add(x, x))"
      ],
      "metadata": {
        "colab": {
          "base_uri": "https://localhost:8080/"
        },
        "id": "enbwBrUgPPl6",
        "outputId": "09497f09-4ed3-47f2-d7ef-1fe2e4024c28"
      },
      "execution_count": null,
      "outputs": [
        {
          "output_type": "stream",
          "name": "stdout",
          "text": [
            "타입: torch.FloatTensor\n",
            "크기: torch.Size([2, 3])\n",
            "값: \n",
            "tensor([[1.4021, 0.0246, 0.4516],\n",
            "        [3.7407, 1.4260, 0.0725]])\n"
          ]
        }
      ]
    },
    {
      "cell_type": "code",
      "source": [
        "describe(x + x)"
      ],
      "metadata": {
        "colab": {
          "base_uri": "https://localhost:8080/"
        },
        "id": "eEzbPqzNPZRh",
        "outputId": "32a89404-c861-436e-832e-77b1da967e30"
      },
      "execution_count": null,
      "outputs": [
        {
          "output_type": "stream",
          "name": "stdout",
          "text": [
            "타입: torch.FloatTensor\n",
            "크기: torch.Size([2, 3])\n",
            "값: \n",
            "tensor([[1.4021, 0.0246, 0.4516],\n",
            "        [3.7407, 1.4260, 0.0725]])\n"
          ]
        }
      ]
    },
    {
      "cell_type": "markdown",
      "source": [
        "### 차원별 텐서 연산"
      ],
      "metadata": {
        "id": "196zStYAPdbQ"
      }
    },
    {
      "cell_type": "code",
      "source": [
        "import torch\n",
        "x = torch.arange(6)\n",
        "describe(x)"
      ],
      "metadata": {
        "colab": {
          "base_uri": "https://localhost:8080/"
        },
        "id": "GRsX9pEdP49Z",
        "outputId": "5a0f3a59-0c75-4746-900b-d950d7094c09"
      },
      "execution_count": null,
      "outputs": [
        {
          "output_type": "stream",
          "name": "stdout",
          "text": [
            "타입: torch.LongTensor\n",
            "크기: torch.Size([6])\n",
            "값: \n",
            "tensor([0, 1, 2, 3, 4, 5])\n"
          ]
        }
      ]
    },
    {
      "cell_type": "code",
      "source": [
        "x = x.view(2,3)\n",
        "describe(x)"
      ],
      "metadata": {
        "colab": {
          "base_uri": "https://localhost:8080/"
        },
        "id": "Xovt2NE8QDVA",
        "outputId": "c86aaa9e-798e-4b97-d4db-126c0b0921a9"
      },
      "execution_count": null,
      "outputs": [
        {
          "output_type": "stream",
          "name": "stdout",
          "text": [
            "타입: torch.LongTensor\n",
            "크기: torch.Size([2, 3])\n",
            "값: \n",
            "tensor([[0, 1, 2],\n",
            "        [3, 4, 5]])\n"
          ]
        }
      ]
    },
    {
      "cell_type": "code",
      "source": [
        "describe(torch.sum(x, dim=0)) # 같은 열끼리 더하기"
      ],
      "metadata": {
        "colab": {
          "base_uri": "https://localhost:8080/"
        },
        "id": "I55KDn1OQIgg",
        "outputId": "9346c224-e33e-47a2-bd93-98a94cd68997"
      },
      "execution_count": null,
      "outputs": [
        {
          "output_type": "stream",
          "name": "stdout",
          "text": [
            "타입: torch.LongTensor\n",
            "크기: torch.Size([3])\n",
            "값: \n",
            "tensor([3, 5, 7])\n"
          ]
        }
      ]
    },
    {
      "cell_type": "code",
      "source": [
        "describe(torch.sum(x,dim=1)) # 같은 행끼리 더하기"
      ],
      "metadata": {
        "colab": {
          "base_uri": "https://localhost:8080/"
        },
        "id": "Yu04cyJsQSoI",
        "outputId": "b345035f-c088-4416-fa22-8bdd727b841a"
      },
      "execution_count": null,
      "outputs": [
        {
          "output_type": "stream",
          "name": "stdout",
          "text": [
            "타입: torch.LongTensor\n",
            "크기: torch.Size([2])\n",
            "값: \n",
            "tensor([ 3, 12])\n"
          ]
        }
      ]
    },
    {
      "cell_type": "code",
      "source": [
        "describe(torch.transpose(x, 0, 1)) # 행과 열 뒤집기"
      ],
      "metadata": {
        "colab": {
          "base_uri": "https://localhost:8080/"
        },
        "id": "6faXvUGDQqmg",
        "outputId": "4fc60085-4f31-497f-ab24-cedbaeb44b97"
      },
      "execution_count": null,
      "outputs": [
        {
          "output_type": "stream",
          "name": "stdout",
          "text": [
            "타입: torch.LongTensor\n",
            "크기: torch.Size([3, 2])\n",
            "값: \n",
            "tensor([[0, 3],\n",
            "        [1, 4],\n",
            "        [2, 5]])\n"
          ]
        }
      ]
    },
    {
      "cell_type": "markdown",
      "source": [
        "## 인덱싱, 슬라이싱, 연결"
      ],
      "metadata": {
        "id": "qubNapg4Q-kQ"
      }
    },
    {
      "cell_type": "markdown",
      "source": [
        "### 텐서 슬라이싱과 인덱싱"
      ],
      "metadata": {
        "id": "4dygHyZyRRVZ"
      }
    },
    {
      "cell_type": "code",
      "source": [
        "import torch\n",
        "x = torch.arange(6).view(2, 3)\n",
        "describe(x)"
      ],
      "metadata": {
        "colab": {
          "base_uri": "https://localhost:8080/"
        },
        "id": "HqN81NW5RYGv",
        "outputId": "af140db0-2f19-4c89-9a8a-14846af91f0c"
      },
      "execution_count": null,
      "outputs": [
        {
          "output_type": "stream",
          "name": "stdout",
          "text": [
            "타입: torch.LongTensor\n",
            "크기: torch.Size([2, 3])\n",
            "값: \n",
            "tensor([[0, 1, 2],\n",
            "        [3, 4, 5]])\n"
          ]
        }
      ]
    },
    {
      "cell_type": "code",
      "source": [
        "describe(x[:1, :2])"
      ],
      "metadata": {
        "colab": {
          "base_uri": "https://localhost:8080/"
        },
        "id": "O-Gm5njXRfkw",
        "outputId": "2766664a-34b0-4b1c-9343-86ecdd42a6b1"
      },
      "execution_count": null,
      "outputs": [
        {
          "output_type": "stream",
          "name": "stdout",
          "text": [
            "타입: torch.LongTensor\n",
            "크기: torch.Size([1, 2])\n",
            "값: \n",
            "tensor([[0, 1]])\n"
          ]
        }
      ]
    },
    {
      "cell_type": "code",
      "source": [
        "describe(x[:1, :3])"
      ],
      "metadata": {
        "colab": {
          "base_uri": "https://localhost:8080/"
        },
        "id": "2l8Tv0fmSHrr",
        "outputId": "22479a1e-fdaa-45b5-e722-2a5814d585b0"
      },
      "execution_count": null,
      "outputs": [
        {
          "output_type": "stream",
          "name": "stdout",
          "text": [
            "타입: torch.LongTensor\n",
            "크기: torch.Size([1, 3])\n",
            "값: \n",
            "tensor([[0, 1, 2]])\n"
          ]
        }
      ]
    },
    {
      "cell_type": "code",
      "source": [
        "describe(x[:2, :3])"
      ],
      "metadata": {
        "colab": {
          "base_uri": "https://localhost:8080/"
        },
        "id": "jRBv5f1mTF9H",
        "outputId": "f76653ce-d394-4ba5-db75-1cf207c1b061"
      },
      "execution_count": null,
      "outputs": [
        {
          "output_type": "stream",
          "name": "stdout",
          "text": [
            "타입: torch.LongTensor\n",
            "크기: torch.Size([2, 3])\n",
            "값: \n",
            "tensor([[0, 1, 2],\n",
            "        [3, 4, 5]])\n"
          ]
        }
      ]
    },
    {
      "cell_type": "code",
      "source": [
        "describe(x[0, 1])"
      ],
      "metadata": {
        "colab": {
          "base_uri": "https://localhost:8080/"
        },
        "id": "GWF31JwhRpVR",
        "outputId": "e0e2d00b-125a-460a-db15-f75937abaebc"
      },
      "execution_count": null,
      "outputs": [
        {
          "output_type": "stream",
          "name": "stdout",
          "text": [
            "타입: torch.LongTensor\n",
            "크기: torch.Size([])\n",
            "값: \n",
            "1\n"
          ]
        }
      ]
    },
    {
      "cell_type": "markdown",
      "source": [
        "### 복잡한 인덱싱, 연속적이지 않은 인덱스 참조"
      ],
      "metadata": {
        "id": "QW22YKEJSrzN"
      }
    },
    {
      "cell_type": "code",
      "source": [
        "indices = torch.LongTensor([0,2])\n",
        "describe(torch.index_select(x, dim=1, index=indices))"
      ],
      "metadata": {
        "colab": {
          "base_uri": "https://localhost:8080/"
        },
        "id": "2UkdhhbSTBAP",
        "outputId": "99f3ecfa-91c3-40dd-be4e-13a7046d33e0"
      },
      "execution_count": null,
      "outputs": [
        {
          "output_type": "stream",
          "name": "stdout",
          "text": [
            "타입: torch.LongTensor\n",
            "크기: torch.Size([2, 2])\n",
            "값: \n",
            "tensor([[0, 2],\n",
            "        [3, 5]])\n"
          ]
        }
      ]
    },
    {
      "cell_type": "code",
      "source": [
        "indices = torch.LongTensor([0, 0])\n",
        "describe(torch.index_select(x, dim=0, index=indices))"
      ],
      "metadata": {
        "colab": {
          "base_uri": "https://localhost:8080/"
        },
        "id": "oQn7mpndTcUv",
        "outputId": "f02ea6cb-bc02-4979-8b79-29aefc5c3345"
      },
      "execution_count": null,
      "outputs": [
        {
          "output_type": "stream",
          "name": "stdout",
          "text": [
            "타입: torch.LongTensor\n",
            "크기: torch.Size([2, 3])\n",
            "값: \n",
            "tensor([[0, 1, 2],\n",
            "        [0, 1, 2]])\n"
          ]
        }
      ]
    },
    {
      "cell_type": "code",
      "source": [
        "row_indices = torch.arange(2).long() # 인덱스는 LongTensor다. 파이토치 함수를 사용할 때 필수조건.\n",
        "col_indices = torch.LongTensor([0,1])\n",
        "describe(x[row_indices, col_indices])"
      ],
      "metadata": {
        "colab": {
          "base_uri": "https://localhost:8080/"
        },
        "id": "YI6-t0a0UW__",
        "outputId": "748639f7-9c44-4e4d-b4da-04b04ff80f82"
      },
      "execution_count": null,
      "outputs": [
        {
          "output_type": "stream",
          "name": "stdout",
          "text": [
            "타입: torch.LongTensor\n",
            "크기: torch.Size([2])\n",
            "값: \n",
            "tensor([0, 4])\n"
          ]
        }
      ]
    },
    {
      "cell_type": "markdown",
      "source": [
        "### 텐서 연결"
      ],
      "metadata": {
        "id": "iaOMUNslUzJX"
      }
    },
    {
      "cell_type": "code",
      "source": [
        "import torch\n",
        "x = torch.arange(6).view(2,3)\n",
        "describe(x)"
      ],
      "metadata": {
        "colab": {
          "base_uri": "https://localhost:8080/"
        },
        "id": "LXkENnBgVxf0",
        "outputId": "e623e3eb-2351-4692-c29a-f894c2b8b791"
      },
      "execution_count": null,
      "outputs": [
        {
          "output_type": "stream",
          "name": "stdout",
          "text": [
            "타입: torch.LongTensor\n",
            "크기: torch.Size([2, 3])\n",
            "값: \n",
            "tensor([[0, 1, 2],\n",
            "        [3, 4, 5]])\n"
          ]
        }
      ]
    },
    {
      "cell_type": "code",
      "source": [
        "describe(torch.cat([x, x], dim=0)) # 연결"
      ],
      "metadata": {
        "colab": {
          "base_uri": "https://localhost:8080/"
        },
        "id": "R4eS_kOKV8uE",
        "outputId": "3775458c-f9d9-4828-8e34-ade3c680a853"
      },
      "execution_count": null,
      "outputs": [
        {
          "output_type": "stream",
          "name": "stdout",
          "text": [
            "타입: torch.LongTensor\n",
            "크기: torch.Size([4, 3])\n",
            "값: \n",
            "tensor([[0, 1, 2],\n",
            "        [3, 4, 5],\n",
            "        [0, 1, 2],\n",
            "        [3, 4, 5]])\n"
          ]
        }
      ]
    },
    {
      "cell_type": "code",
      "source": [
        "describe(torch.cat([x, x], dim=1))"
      ],
      "metadata": {
        "colab": {
          "base_uri": "https://localhost:8080/"
        },
        "id": "N2zjluhdWMm-",
        "outputId": "c6a0202b-4cd3-4872-dc60-f651bff795f4"
      },
      "execution_count": null,
      "outputs": [
        {
          "output_type": "stream",
          "name": "stdout",
          "text": [
            "타입: torch.LongTensor\n",
            "크기: torch.Size([2, 6])\n",
            "값: \n",
            "tensor([[0, 1, 2, 0, 1, 2],\n",
            "        [3, 4, 5, 3, 4, 5]])\n"
          ]
        }
      ]
    },
    {
      "cell_type": "code",
      "source": [
        "describe(torch.stack([x,x]))"
      ],
      "metadata": {
        "colab": {
          "base_uri": "https://localhost:8080/"
        },
        "id": "SwP_AA-hWbEW",
        "outputId": "9e6a8d59-6ed4-483c-b5fb-c11eff4946ba"
      },
      "execution_count": null,
      "outputs": [
        {
          "output_type": "stream",
          "name": "stdout",
          "text": [
            "타입: torch.LongTensor\n",
            "크기: torch.Size([2, 2, 3])\n",
            "값: \n",
            "tensor([[[0, 1, 2],\n",
            "         [3, 4, 5]],\n",
            "\n",
            "        [[0, 1, 2],\n",
            "         [3, 4, 5]]])\n"
          ]
        }
      ]
    },
    {
      "cell_type": "markdown",
      "source": [
        "## 텐서 선형대수 연산"
      ],
      "metadata": {
        "id": "uwrs3s1eWn5K"
      }
    },
    {
      "cell_type": "markdown",
      "source": [
        "### 행렬 곱셈"
      ],
      "metadata": {
        "id": "pwYbK8zbW5O_"
      }
    },
    {
      "cell_type": "code",
      "source": [
        "import torch\n",
        "x1 = torch.arange(6).view(2, 3)\n",
        "x1 = x1.float()\n",
        "describe(x1)"
      ],
      "metadata": {
        "colab": {
          "base_uri": "https://localhost:8080/"
        },
        "id": "uNzW_4KIXU8v",
        "outputId": "64c26bfe-e808-4258-d3e6-b5d3aafb8bdd"
      },
      "execution_count": null,
      "outputs": [
        {
          "output_type": "stream",
          "name": "stdout",
          "text": [
            "타입: torch.FloatTensor\n",
            "크기: torch.Size([2, 3])\n",
            "값: \n",
            "tensor([[0., 1., 2.],\n",
            "        [3., 4., 5.]])\n"
          ]
        }
      ]
    },
    {
      "cell_type": "code",
      "source": [
        "x2 = torch.ones(3,2)\n",
        "x2[:,1] += 1\n",
        "describe(x2)"
      ],
      "metadata": {
        "colab": {
          "base_uri": "https://localhost:8080/"
        },
        "id": "jnMXdfsfXc--",
        "outputId": "956aab40-ead5-423a-bc96-50540c00d200"
      },
      "execution_count": null,
      "outputs": [
        {
          "output_type": "stream",
          "name": "stdout",
          "text": [
            "타입: torch.FloatTensor\n",
            "크기: torch.Size([3, 2])\n",
            "값: \n",
            "tensor([[1., 2.],\n",
            "        [1., 2.],\n",
            "        [1., 2.]])\n"
          ]
        }
      ]
    },
    {
      "cell_type": "code",
      "source": [
        "describe(torch.mm(x1, x2))"
      ],
      "metadata": {
        "colab": {
          "base_uri": "https://localhost:8080/"
        },
        "id": "SAxKLChpXxSt",
        "outputId": "3b7e495b-f26d-40bf-dfa6-cd49ccbc4ce2"
      },
      "execution_count": null,
      "outputs": [
        {
          "output_type": "stream",
          "name": "stdout",
          "text": [
            "타입: torch.FloatTensor\n",
            "크기: torch.Size([2, 2])\n",
            "값: \n",
            "tensor([[ 3.,  6.],\n",
            "        [12., 24.]])\n"
          ]
        }
      ]
    },
    {
      "cell_type": "markdown",
      "source": [
        "## 텐서와 계산 그래프\n",
        "\n",
        "파이토치 tensor 클래스는 데이터와 대수 연산, 인덱싱, 크기 변경 같은 다양한 연산을 캡슐화한다."
      ],
      "metadata": {
        "id": "d695hyAIX5pd"
      }
    },
    {
      "cell_type": "markdown",
      "source": [
        "### 그레디언트 연산을 할 수 있는 텐서 만들기\n",
        "\n",
        "텐서의 requires_grad 불리언 매개변수를 True로 지정하면 그레디언트 기반 학습에 필요한 손실 함수와 텐서의 그레디언트를 기록하는 부가 연산을 활성화한다.\n",
        "\n"
      ],
      "metadata": {
        "id": "yFGu2_GAYehP"
      }
    },
    {
      "cell_type": "code",
      "source": [
        "import torch\n",
        "x = torch.ones(2,2, requires_grad=True)\n",
        "describe(x)\n",
        "print(x.grad is None)"
      ],
      "metadata": {
        "colab": {
          "base_uri": "https://localhost:8080/"
        },
        "id": "HfeQMM-ZYjIf",
        "outputId": "1ee99a51-f7e0-451f-ecd5-89fb7b807e41"
      },
      "execution_count": null,
      "outputs": [
        {
          "output_type": "stream",
          "name": "stdout",
          "text": [
            "타입: torch.FloatTensor\n",
            "크기: torch.Size([2, 2])\n",
            "값: \n",
            "tensor([[1., 1.],\n",
            "        [1., 1.]], requires_grad=True)\n",
            "True\n"
          ]
        }
      ]
    },
    {
      "cell_type": "markdown",
      "source": [
        "requires_grad=True로 만들면 그레이디언트 계산에 사용하는 부가 정보를 관리한다.\n",
        "\n",
        "먼저 파이토치가 정방향 계산의 값을 기록한다. 계산이 끝나면 스칼라값 하나를 사용해 역방향 계산을 수행한다."
      ],
      "metadata": {
        "id": "919BL0-_tCBB"
      }
    },
    {
      "cell_type": "code",
      "source": [
        "y = (x + 2) * (x + 5) + 3\n",
        "describe(y)\n",
        "print(x.grad is None)"
      ],
      "metadata": {
        "colab": {
          "base_uri": "https://localhost:8080/"
        },
        "id": "VFA3JW_BZNoP",
        "outputId": "ec78fc12-2b9d-4347-90fc-545421e58736"
      },
      "execution_count": null,
      "outputs": [
        {
          "output_type": "stream",
          "name": "stdout",
          "text": [
            "타입: torch.FloatTensor\n",
            "크기: torch.Size([2, 2])\n",
            "값: \n",
            "tensor([[21., 21.],\n",
            "        [21., 21.]], grad_fn=<AddBackward0>)\n",
            "True\n"
          ]
        }
      ]
    },
    {
      "cell_type": "code",
      "source": [
        "z = y.mean()\n",
        "describe(z)\n",
        "z.backward()\n",
        "print(x.grad is None)"
      ],
      "metadata": {
        "colab": {
          "base_uri": "https://localhost:8080/"
        },
        "id": "wE0T1oaIZqMw",
        "outputId": "d8287859-4318-41b1-d128-3047a127491e"
      },
      "execution_count": null,
      "outputs": [
        {
          "output_type": "stream",
          "name": "stdout",
          "text": [
            "타입: torch.FloatTensor\n",
            "크기: torch.Size([])\n",
            "값: \n",
            "21.0\n",
            "False\n"
          ]
        }
      ]
    },
    {
      "cell_type": "markdown",
      "source": [
        "역방향 계산은 손실 함수의 평가 결과로 얻은 텐서에서 backward() 메서드를 호출해 시작한다. 역방향 계산은 정방향 계산에 참여한 텐서 객체에 대한 그레이디언트 값을 계산한다."
      ],
      "metadata": {
        "id": "gvaNz18muPWr"
      }
    },
    {
      "cell_type": "markdown",
      "source": [
        "## CUDA 텐서\n",
        "\n",
        "지금까지는 텐서를 cpu 메모리에 할당했다. \n",
        "GPU가 있다면 선형 대수 연산을 수행할 때 되도록이면 사용하는 것이 좋다. \n",
        "\n",
        "GPU를 사용하려면 먼저 텐서를 GPU메모리에 할당해야 한다.\n",
        "\n",
        "CUDA API를 사용해 GPU를 활용할 수 있다. (CUDA는 NVIDIA에서 만들었고 NVUDIA GPU에서만 사용된다.)\n",
        "\n",
        "파이토치는 타입을 유지하면서 텐서를 CPU에서 GPU로 전송하여 CUDA 텐서를 매우 쉽게 만들 수 있다. 파이토치에서는 GPU나 CPU 같은 장치에 상관없이 동작하는 코드를 작성하는 것이 바람직하다. 그래서 torch.cuda.is_available()로 GPU를 사용할 수 있는지 확인하고 torch.device()로 장치 이름을 가져온 다음, to(device)로 모든 텐서를 타깃 장치로 이동한다."
      ],
      "metadata": {
        "id": "IeqF9y6lZ4BV"
      }
    },
    {
      "cell_type": "code",
      "source": [
        "import torch\n",
        "print(torch.cuda.is_available())"
      ],
      "metadata": {
        "colab": {
          "base_uri": "https://localhost:8080/"
        },
        "id": "UEzwZ4s9bQMs",
        "outputId": "a8b4948b-07e8-4037-90b5-7c925a5abf4c"
      },
      "execution_count": null,
      "outputs": [
        {
          "output_type": "stream",
          "name": "stdout",
          "text": [
            "False\n"
          ]
        }
      ]
    },
    {
      "cell_type": "code",
      "source": [
        "# 바람직한 방법 : 장치에 무관한 텐서 초기화\n",
        "device = torch.device(\"cuda\" if torch.cuda.is_available() else \"cpu\")\n",
        "print(device)"
      ],
      "metadata": {
        "colab": {
          "base_uri": "https://localhost:8080/"
        },
        "id": "gID5kQnObZaM",
        "outputId": "5d88585e-4ffc-4e61-fc38-57159cbe43f5"
      },
      "execution_count": null,
      "outputs": [
        {
          "output_type": "stream",
          "name": "stdout",
          "text": [
            "cpu\n"
          ]
        }
      ]
    },
    {
      "cell_type": "code",
      "source": [
        "x = torch.rand(3, 3).to(device)\n",
        "describe(x)"
      ],
      "metadata": {
        "colab": {
          "base_uri": "https://localhost:8080/"
        },
        "id": "zqp82J7Gbqlk",
        "outputId": "7e633a11-fec8-4fc6-b033-32d6613bc575"
      },
      "execution_count": null,
      "outputs": [
        {
          "output_type": "stream",
          "name": "stdout",
          "text": [
            "타입: torch.FloatTensor\n",
            "크기: torch.Size([3, 3])\n",
            "값: \n",
            "tensor([[0.6992, 0.8025, 0.0842],\n",
            "        [0.5863, 0.8744, 0.3459],\n",
            "        [0.3823, 0.9394, 0.1310]])\n"
          ]
        }
      ]
    },
    {
      "cell_type": "markdown",
      "source": [
        "CUDA 텐서와 CUDA가 아닌 객체를 다루려면 두 객체가 같은 장치에 있어야 한다. 두 텐서 객체로 연산을 수행하다면 같은 장치에 있는지 확인하자. "
      ],
      "metadata": {
        "id": "_hIAyjvQbxBO"
      }
    },
    {
      "cell_type": "code",
      "source": [
        "y = torch.rand(3,3)\n",
        "x + y"
      ],
      "metadata": {
        "colab": {
          "base_uri": "https://localhost:8080/"
        },
        "id": "q2yvo0ECcTLE",
        "outputId": "f58ee2a9-abb2-45b0-e9a7-71594164af36"
      },
      "execution_count": null,
      "outputs": [
        {
          "output_type": "execute_result",
          "data": {
            "text/plain": [
              "tensor([[1.5179, 1.3596, 0.6565],\n",
              "        [1.2326, 1.5392, 1.1189],\n",
              "        [1.1114, 1.4764, 1.0898]])"
            ]
          },
          "metadata": {},
          "execution_count": 67
        }
      ]
    },
    {
      "cell_type": "markdown",
      "source": [
        "코랩에서는 cpu로만 해서 에러가 발생하지 않음."
      ],
      "metadata": {
        "id": "_JYlSJ2lcajs"
      }
    },
    {
      "cell_type": "markdown",
      "source": [
        "GPU로 데이터를 넣고 꺼내는 작업은 비용이 많이 든다. 따라서 병렬 계산은 일반적으로 GPU에서 수행하고 최종 겨로가만 CPU로 전송하는 방식으로 이루어진다."
      ],
      "metadata": {
        "id": "9Wg4wfRgcjQs"
      }
    }
  ]
}